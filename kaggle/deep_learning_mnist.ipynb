{
 "cells": [
  {
   "cell_type": "code",
   "execution_count": 1,
   "metadata": {
    "cellView": "both",
    "colab": {
     "autoexec": {
      "startup": false,
      "wait_interval": 0
     }
    },
    "colab_type": "code",
    "id": "apJbCsBHl-2A"
   },
   "outputs": [
    {
     "name": "stderr",
     "output_type": "stream",
     "text": [
      "Using TensorFlow backend.\n"
     ]
    }
   ],
   "source": [
    "#Choose GPUs and CPUs\n",
    "\n",
    "#If want to choose GPU to use\n",
    "import os\n",
    "os.environ[\"CUDA_VISIBLE_DEVICES\"]=\"1\"\n",
    "#This will make it so that only the 0th GPU is visible to TensorFlow.\n",
    "#In your case, you can choose any in the range [0, 3].\n",
    "#If you wanted, for example, the 0th and 2nd GPUs to both be visible, replace \"0\" with \"0,2\"\n",
    "\n",
    "import tensorflow as tf\n",
    "from keras import backend as K\n",
    "\n",
    "GPU=True\n",
    "CPU=False\n",
    "num_cores = 4\n",
    "\n",
    "if GPU:\n",
    "    num_GPU = 1\n",
    "    num_CPU = 1\n",
    "if CPU:\n",
    "    num_CPU = 1\n",
    "    num_GPU = 0\n",
    "\n",
    "config = tf.ConfigProto(intra_op_parallelism_threads=num_cores,\\\n",
    "        inter_op_parallelism_threads=num_cores, allow_soft_placement=True,\\\n",
    "        device_count = {'CPU' : num_CPU, 'GPU' : num_GPU},\\\n",
    "#        gpu_options=tf.GPUOptions(per_process_gpu_memory_fraction=0.5))\n",
    "                       )\n",
    "session = tf.Session(config=config)\n",
    "K.set_session(session)\n",
    "\n",
    "import matplotlib.pyplot as plt\n",
    "import numpy as np\n",
    "\n",
    "# Config the matplotlib backend as plotting inline in IPython\n",
    "%matplotlib inline"
   ]
  },
  {
   "cell_type": "markdown",
   "metadata": {},
   "source": [
    "# Load data from random csv file"
   ]
  },
  {
   "cell_type": "code",
   "execution_count": 2,
   "metadata": {},
   "outputs": [
    {
     "name": "stdout",
     "output_type": "stream",
     "text": [
      "(42000, 785)\n",
      "(28000, 784)\n"
     ]
    },
    {
     "data": {
      "text/html": [
       "<div>\n",
       "<style>\n",
       "    .dataframe thead tr:only-child th {\n",
       "        text-align: right;\n",
       "    }\n",
       "\n",
       "    .dataframe thead th {\n",
       "        text-align: left;\n",
       "    }\n",
       "\n",
       "    .dataframe tbody tr th {\n",
       "        vertical-align: top;\n",
       "    }\n",
       "</style>\n",
       "<table border=\"1\" class=\"dataframe\">\n",
       "  <thead>\n",
       "    <tr style=\"text-align: right;\">\n",
       "      <th></th>\n",
       "      <th>pixel0</th>\n",
       "      <th>pixel1</th>\n",
       "      <th>pixel2</th>\n",
       "      <th>pixel3</th>\n",
       "      <th>pixel4</th>\n",
       "      <th>pixel5</th>\n",
       "      <th>pixel6</th>\n",
       "      <th>pixel7</th>\n",
       "      <th>pixel8</th>\n",
       "      <th>pixel9</th>\n",
       "      <th>...</th>\n",
       "      <th>pixel774</th>\n",
       "      <th>pixel775</th>\n",
       "      <th>pixel776</th>\n",
       "      <th>pixel777</th>\n",
       "      <th>pixel778</th>\n",
       "      <th>pixel779</th>\n",
       "      <th>pixel780</th>\n",
       "      <th>pixel781</th>\n",
       "      <th>pixel782</th>\n",
       "      <th>pixel783</th>\n",
       "    </tr>\n",
       "  </thead>\n",
       "  <tbody>\n",
       "    <tr>\n",
       "      <th>0</th>\n",
       "      <td>0</td>\n",
       "      <td>0</td>\n",
       "      <td>0</td>\n",
       "      <td>0</td>\n",
       "      <td>0</td>\n",
       "      <td>0</td>\n",
       "      <td>0</td>\n",
       "      <td>0</td>\n",
       "      <td>0</td>\n",
       "      <td>0</td>\n",
       "      <td>...</td>\n",
       "      <td>0</td>\n",
       "      <td>0</td>\n",
       "      <td>0</td>\n",
       "      <td>0</td>\n",
       "      <td>0</td>\n",
       "      <td>0</td>\n",
       "      <td>0</td>\n",
       "      <td>0</td>\n",
       "      <td>0</td>\n",
       "      <td>0</td>\n",
       "    </tr>\n",
       "    <tr>\n",
       "      <th>1</th>\n",
       "      <td>0</td>\n",
       "      <td>0</td>\n",
       "      <td>0</td>\n",
       "      <td>0</td>\n",
       "      <td>0</td>\n",
       "      <td>0</td>\n",
       "      <td>0</td>\n",
       "      <td>0</td>\n",
       "      <td>0</td>\n",
       "      <td>0</td>\n",
       "      <td>...</td>\n",
       "      <td>0</td>\n",
       "      <td>0</td>\n",
       "      <td>0</td>\n",
       "      <td>0</td>\n",
       "      <td>0</td>\n",
       "      <td>0</td>\n",
       "      <td>0</td>\n",
       "      <td>0</td>\n",
       "      <td>0</td>\n",
       "      <td>0</td>\n",
       "    </tr>\n",
       "    <tr>\n",
       "      <th>2</th>\n",
       "      <td>0</td>\n",
       "      <td>0</td>\n",
       "      <td>0</td>\n",
       "      <td>0</td>\n",
       "      <td>0</td>\n",
       "      <td>0</td>\n",
       "      <td>0</td>\n",
       "      <td>0</td>\n",
       "      <td>0</td>\n",
       "      <td>0</td>\n",
       "      <td>...</td>\n",
       "      <td>0</td>\n",
       "      <td>0</td>\n",
       "      <td>0</td>\n",
       "      <td>0</td>\n",
       "      <td>0</td>\n",
       "      <td>0</td>\n",
       "      <td>0</td>\n",
       "      <td>0</td>\n",
       "      <td>0</td>\n",
       "      <td>0</td>\n",
       "    </tr>\n",
       "    <tr>\n",
       "      <th>3</th>\n",
       "      <td>0</td>\n",
       "      <td>0</td>\n",
       "      <td>0</td>\n",
       "      <td>0</td>\n",
       "      <td>0</td>\n",
       "      <td>0</td>\n",
       "      <td>0</td>\n",
       "      <td>0</td>\n",
       "      <td>0</td>\n",
       "      <td>0</td>\n",
       "      <td>...</td>\n",
       "      <td>0</td>\n",
       "      <td>0</td>\n",
       "      <td>0</td>\n",
       "      <td>0</td>\n",
       "      <td>0</td>\n",
       "      <td>0</td>\n",
       "      <td>0</td>\n",
       "      <td>0</td>\n",
       "      <td>0</td>\n",
       "      <td>0</td>\n",
       "    </tr>\n",
       "    <tr>\n",
       "      <th>4</th>\n",
       "      <td>0</td>\n",
       "      <td>0</td>\n",
       "      <td>0</td>\n",
       "      <td>0</td>\n",
       "      <td>0</td>\n",
       "      <td>0</td>\n",
       "      <td>0</td>\n",
       "      <td>0</td>\n",
       "      <td>0</td>\n",
       "      <td>0</td>\n",
       "      <td>...</td>\n",
       "      <td>0</td>\n",
       "      <td>0</td>\n",
       "      <td>0</td>\n",
       "      <td>0</td>\n",
       "      <td>0</td>\n",
       "      <td>0</td>\n",
       "      <td>0</td>\n",
       "      <td>0</td>\n",
       "      <td>0</td>\n",
       "      <td>0</td>\n",
       "    </tr>\n",
       "  </tbody>\n",
       "</table>\n",
       "<p>5 rows × 784 columns</p>\n",
       "</div>"
      ],
      "text/plain": [
       "   pixel0  pixel1  pixel2  pixel3  pixel4  pixel5  pixel6  pixel7  pixel8  \\\n",
       "0       0       0       0       0       0       0       0       0       0   \n",
       "1       0       0       0       0       0       0       0       0       0   \n",
       "2       0       0       0       0       0       0       0       0       0   \n",
       "3       0       0       0       0       0       0       0       0       0   \n",
       "4       0       0       0       0       0       0       0       0       0   \n",
       "\n",
       "   pixel9    ...     pixel774  pixel775  pixel776  pixel777  pixel778  \\\n",
       "0       0    ...            0         0         0         0         0   \n",
       "1       0    ...            0         0         0         0         0   \n",
       "2       0    ...            0         0         0         0         0   \n",
       "3       0    ...            0         0         0         0         0   \n",
       "4       0    ...            0         0         0         0         0   \n",
       "\n",
       "   pixel779  pixel780  pixel781  pixel782  pixel783  \n",
       "0         0         0         0         0         0  \n",
       "1         0         0         0         0         0  \n",
       "2         0         0         0         0         0  \n",
       "3         0         0         0         0         0  \n",
       "4         0         0         0         0         0  \n",
       "\n",
       "[5 rows x 784 columns]"
      ]
     },
     "execution_count": 2,
     "metadata": {},
     "output_type": "execute_result"
    }
   ],
   "source": [
    "import pandas as pd # data processing, CSV file I/O (e.g. pd.read_csv)\n",
    "\n",
    "# create the training & test sets, skipping the header row with [1:]\n",
    "train = pd.read_csv(\"train.csv\")\n",
    "print(train.shape)\n",
    "train.head()\n",
    "\n",
    "test= pd.read_csv(\"test.csv\")\n",
    "print(test.shape)\n",
    "test.head()\n"
   ]
  },
  {
   "cell_type": "code",
   "execution_count": 18,
   "metadata": {},
   "outputs": [
    {
     "name": "stdout",
     "output_type": "stream",
     "text": [
      "(42000, 28, 28)\n",
      "(28000, 28, 28, 1)\n"
     ]
    }
   ],
   "source": [
    "X_train = (train.ix[:,1:].values).astype('float32') # all pixel values\n",
    "y_train = train.ix[:,0].values.astype('int32') # only labels i.e targets digits\n",
    "X_test = test.values.astype('float32')\n",
    "\n",
    "#Convert train datset to (num_images, img_rows, img_cols) format \n",
    "X_train = X_train.reshape(X_train.shape[0], 28, 28)\n",
    "print X_train.shape\n",
    "\n",
    "X_test = X_test.reshape(X_test.shape[0], 28, 28,1)\n",
    "print X_test.shape"
   ]
  },
  {
   "cell_type": "markdown",
   "metadata": {},
   "source": [
    "# Normalize the pixels"
   ]
  },
  {
   "cell_type": "code",
   "execution_count": 19,
   "metadata": {},
   "outputs": [
    {
     "name": "stdout",
     "output_type": "stream",
     "text": [
      "-2.72478e-08 1.0\n",
      "-2.72478e-08 1.0\n"
     ]
    }
   ],
   "source": [
    "#Training data\n",
    "avg = X_train.mean()\n",
    "std = X_train.std()\n",
    "\n",
    "X_train=(X_train-avg)/std\n",
    "\n",
    "avg = X_train.mean()\n",
    "std = X_train.std()\n",
    "print mean_px, std_px\n",
    "\n",
    "#Test data\n",
    "avg = X_test.mean()\n",
    "std = X_test.std()\n",
    "\n",
    "X_test=(X_test-avg)/std\n",
    "\n",
    "avg = X_test.mean()\n",
    "std = X_test.std()\n",
    "print avg, std"
   ]
  },
  {
   "cell_type": "markdown",
   "metadata": {},
   "source": [
    "# Augment data"
   ]
  },
  {
   "cell_type": "code",
   "execution_count": 48,
   "metadata": {},
   "outputs": [
    {
     "name": "stderr",
     "output_type": "stream",
     "text": [
      "  9%|▊         | 3597/42000 [00:00<00:01, 35958.55it/s]"
     ]
    },
    {
     "name": "stdout",
     "output_type": "stream",
     "text": [
      "5.00200694009 34.9967221884\n",
      "Doing rotations\n"
     ]
    },
    {
     "name": "stderr",
     "output_type": "stream",
     "text": [
      "100%|██████████| 42000/42000 [00:01<00:00, 36014.62it/s]\n",
      "  8%|▊         | 3441/42000 [00:00<00:01, 34393.88it/s]"
     ]
    },
    {
     "name": "stdout",
     "output_type": "stream",
     "text": [
      "Doing displacements\n",
      "1.0001824029 5.99997189745\n"
     ]
    },
    {
     "name": "stderr",
     "output_type": "stream",
     "text": [
      "100%|██████████| 42000/42000 [00:01<00:00, 34540.67it/s]\n",
      "  8%|▊         | 3330/42000 [00:00<00:01, 33289.95it/s]"
     ]
    },
    {
     "name": "stdout",
     "output_type": "stream",
     "text": [
      "1.0002849826 5.99999990217\n"
     ]
    },
    {
     "name": "stderr",
     "output_type": "stream",
     "text": [
      "100%|██████████| 42000/42000 [00:01<00:00, 33655.49it/s]\n",
      "  5%|▍         | 1942/42000 [00:00<00:02, 19409.70it/s]"
     ]
    },
    {
     "name": "stdout",
     "output_type": "stream",
     "text": [
      "Doing displacements and rotations\n",
      "1.00004652308 5.99989281335\n"
     ]
    },
    {
     "name": "stderr",
     "output_type": "stream",
     "text": [
      "100%|██████████| 42000/42000 [00:02<00:00, 19571.46it/s]\n",
      "  5%|▍         | 1938/42000 [00:00<00:02, 19373.78it/s]"
     ]
    },
    {
     "name": "stdout",
     "output_type": "stream",
     "text": [
      "1.00004302338 5.99995062753\n"
     ]
    },
    {
     "name": "stderr",
     "output_type": "stream",
     "text": [
      "100%|██████████| 42000/42000 [00:02<00:00, 19395.12it/s]\n"
     ]
    }
   ],
   "source": [
    "from scipy.ndimage.interpolation import shift\n",
    "from tqdm import tqdm\n",
    "import cv2\n",
    "\n",
    "dataset=X_train\n",
    "labels=y_train\n",
    "dims=dataset.shape\n",
    "aug_data=[]\n",
    "aug_labels=[]\n",
    "cols, rows=28,28\n",
    "\n",
    "#Rotations, 1 each\n",
    "ang = (np.random.rand(dims[0]))*30+5\n",
    "#print ang\n",
    "print min(ang), max(ang)\n",
    "\n",
    "print \"Doing rotations\"\n",
    "for i in tqdm(range(dims[0])):\n",
    "#    tmp=rotate(dataset[i],ang[i],reshape=False,order=1)\n",
    "    M = cv2.getRotationMatrix2D((cols/2,rows/2),ang[i],1)\n",
    "    tmp = cv2.warpAffine(dataset[i-1],M,(cols,rows))\n",
    "    aug_data.append(tmp)\n",
    "    aug_labels.append(labels[i])\n",
    "\n",
    "\n",
    "print \"Doing displacements\"\n",
    "#Displacements, do twice, since 2 variables, x and y shift\n",
    "rows,cols = dims[1],dims[2]\n",
    "for j in range(2):\n",
    " disps = (np.random.rand(dims[0],2))*5+1 # At least 1 pixel\n",
    " print min(disps[:,0]), max(disps[:,0])\n",
    " for i in tqdm(range(dims[0])):\n",
    "    M = np.float32([[1,0,disps[i,0]],[0,1,disps[i,1]]])\n",
    "    tmp = cv2.warpAffine(dataset[i],M,(cols,rows))\n",
    "    aug_data.append(tmp)\n",
    "    aug_labels.append(labels[i])\n",
    "   \n",
    "\n",
    "print \"Doing displacements and rotations\"\n",
    "#Both displace and rotate\n",
    "ang = (np.random.rand(dims[0]))*30+5\n",
    "for j in range(2):\n",
    " disps = (np.random.rand(dims[0],2))*5+1 # At least 1 pixel\n",
    " print min(disps[:,0]), max(disps[:,0])\n",
    " for i in tqdm(range(dims[0])):\n",
    "    M = np.float32([[1,0,disps[i,0]],[0,1,disps[i,1]]])\n",
    "    tmp = cv2.warpAffine(dataset[i],M,(cols,rows))\n",
    "#    tmp=rotate(tmp,ang[i],reshape=False,order=1)\n",
    "    M = cv2.getRotationMatrix2D((cols/2,rows/2),ang[i],1)\n",
    "    tmp = cv2.warpAffine(tmp,M,(cols,rows))\n",
    "    aug_data.append(tmp)\n",
    "    aug_labels.append(labels[i])"
   ]
  },
  {
   "cell_type": "code",
   "execution_count": 49,
   "metadata": {},
   "outputs": [
    {
     "name": "stdout",
     "output_type": "stream",
     "text": [
      "(252000, 28, 28) (252000,)\n"
     ]
    }
   ],
   "source": [
    "all_data=np.concatenate([dataset,aug_data],axis=0)\n",
    "all_labels=np.concatenate([labels,aug_labels],axis=0)\n",
    "print all_data.shape, all_labels.shape"
   ]
  },
  {
   "cell_type": "code",
   "execution_count": 51,
   "metadata": {},
   "outputs": [
    {
     "name": "stdout",
     "output_type": "stream",
     "text": [
      "250999\n"
     ]
    },
    {
     "data": {
      "text/plain": [
       "<matplotlib.image.AxesImage at 0x7f3ee66647d0>"
      ]
     },
     "execution_count": 51,
     "metadata": {},
     "output_type": "execute_result"
    },
    {
     "data": {
      "image/png": "[encoded data removed]",
      "text/plain": [
       "<matplotlib.figure.Figure at 0x7f3ee6c24bd0>"
      ]
     },
     "metadata": {},
     "output_type": "display_data"
    }
   ],
   "source": [
    "ind=251000-1\n",
    "print ind\n",
    "plt.imshow(all_data[ind])"
   ]
  },
  {
   "cell_type": "code",
   "execution_count": 52,
   "metadata": {},
   "outputs": [
    {
     "name": "stdout",
     "output_type": "stream",
     "text": [
      "(252000, 28, 28)\n",
      "(252000, 28, 28, 1)\n",
      "(28000, 28, 28, 1)\n",
      "(28000, 28, 28, 1)\n",
      "10\n"
     ]
    }
   ],
   "source": [
    "\n",
    "#Add extra dimension\n",
    "dims=all_data.shape\n",
    "print (dims)\n",
    "trainee=all_data.reshape(dims[0],dims[1],dims[2],1)\n",
    "print (trainee.shape)\n",
    "\n",
    "dims=X_test.shape\n",
    "print (dims)\n",
    "testee=X_test.reshape(dims[0],dims[1],dims[2],1)\n",
    "print (testee.shape)\n",
    "\n",
    "#To categorical\n",
    "from keras.utils.np_utils import to_categorical\n",
    "train_labels= to_categorical(all_labels)\n",
    "num_classes = train_labels.shape[1]\n",
    "\n",
    "print num_classes"
   ]
  },
  {
   "cell_type": "markdown",
   "metadata": {},
   "source": [
    "# Home-brewed CNN"
   ]
  },
  {
   "cell_type": "code",
   "execution_count": 56,
   "metadata": {},
   "outputs": [
    {
     "name": "stdout",
     "output_type": "stream",
     "text": [
      "_________________________________________________________________\n",
      "Layer (type)                 Output Shape              Param #   \n",
      "=================================================================\n",
      "conv2d_1 (Conv2D)            (None, 26, 26, 32)        320       \n",
      "_________________________________________________________________\n",
      "conv2d_2 (Conv2D)            (None, 24, 24, 32)        9248      \n",
      "_________________________________________________________________\n",
      "max_pooling2d_1 (MaxPooling2 (None, 12, 12, 32)        0         \n",
      "_________________________________________________________________\n",
      "conv2d_3 (Conv2D)            (None, 10, 10, 64)        18496     \n",
      "_________________________________________________________________\n",
      "conv2d_4 (Conv2D)            (None, 8, 8, 64)          36928     \n",
      "_________________________________________________________________\n",
      "max_pooling2d_2 (MaxPooling2 (None, 4, 4, 64)          0         \n",
      "_________________________________________________________________\n",
      "flatten_1 (Flatten)          (None, 1024)              0         \n",
      "_________________________________________________________________\n",
      "dense_1 (Dense)              (None, 1200)              1230000   \n",
      "_________________________________________________________________\n",
      "dropout_1 (Dropout)          (None, 1200)              0         \n",
      "_________________________________________________________________\n",
      "dense_2 (Dense)              (None, 10)                12010     \n",
      "=================================================================\n",
      "Total params: 1,307,002\n",
      "Trainable params: 1,307,002\n",
      "Non-trainable params: 0\n",
      "_________________________________________________________________\n",
      "None\n",
      "Train on 226800 samples, validate on 25200 samples\n",
      "Epoch 1/20\n",
      "226600/226800 [============================>.] - ETA: 0s - loss: 0.6206 - acc: 0.7946- ETA: 3s - loss: 0.6284 -\n",
      "Epoch 00001: saving model to tmp_models/weights.01.hdf5\n",
      "226800/226800 [==============================] - 54s 239us/step - loss: 0.6205 - acc: 0.7945 - val_loss: 0.0785 - val_acc: 0.9810\n",
      "Epoch 2/20\n",
      "226500/226800 [============================>.] - ETA: 0s - loss: 0.4764 - acc: 0.8223- ETA: 2s -  - ETA: 0s - loss: 0.4765 - acc: 0.822 - ETA: 0s - loss: 0.4766 - acc\n",
      "Epoch 00002: saving model to tmp_models/weights.02.hdf5\n",
      "226800/226800 [==============================] - 54s 240us/step - loss: 0.4764 - acc: 0.8223 - val_loss: 0.0691 - val_acc: 0.9839\n",
      "Epoch 3/20\n",
      "226600/226800 [============================>.] - ETA: 0s - loss: 0.4616 - acc: 0.8259\n",
      "Epoch 00003: saving model to tmp_models/weights.03.hdf5\n",
      "226800/226800 [==============================] - 54s 239us/step - loss: 0.4616 - acc: 0.8259 - val_loss: 0.0532 - val_acc: 0.9867\n",
      "Epoch 4/20\n",
      "226700/226800 [============================>.] - ETA: 0s - loss: 0.4537 - acc: 0.8283\n",
      "Epoch 00004: saving model to tmp_models/weights.04.hdf5\n",
      "226800/226800 [==============================] - 55s 241us/step - loss: 0.4537 - acc: 0.8283 - val_loss: 0.0364 - val_acc: 0.9903\n",
      "Epoch 5/20\n",
      "226700/226800 [============================>.] - ETA: 0s - loss: 0.4484 - acc: 0.8296\n",
      "Epoch 00005: saving model to tmp_models/weights.05.hdf5\n",
      "226800/226800 [==============================] - 54s 236us/step - loss: 0.4484 - acc: 0.8296 - val_loss: 0.0338 - val_acc: 0.9899\n",
      "Epoch 6/20\n",
      "226500/226800 [============================>.] - ETA: 0s - loss: 0.4446 - acc: 0.8308\n",
      "Epoch 00006: saving model to tmp_models/weights.06.hdf5\n",
      "226800/226800 [==============================] - 53s 235us/step - loss: 0.4445 - acc: 0.8308 - val_loss: 0.0341 - val_acc: 0.9915\n",
      "Epoch 7/20\n",
      "226600/226800 [============================>.] - ETA: 0s - loss: 0.4425 - acc: 0.8317\n",
      "Epoch 00007: saving model to tmp_models/weights.07.hdf5\n",
      "226800/226800 [==============================] - 53s 233us/step - loss: 0.4425 - acc: 0.8317 - val_loss: 0.0351 - val_acc: 0.9906\n",
      "Epoch 8/20\n",
      "226500/226800 [============================>.] - ETA: 0s - loss: 0.4394 - acc: 0.8329\n",
      "Epoch 00008: saving model to tmp_models/weights.08.hdf5\n",
      "226800/226800 [==============================] - 54s 239us/step - loss: 0.4394 - acc: 0.8329 - val_loss: 0.0323 - val_acc: 0.9916\n",
      "Epoch 9/20\n",
      "226700/226800 [============================>.] - ETA: 0s - loss: 0.4380 - acc: 0.8330\n",
      "Epoch 00009: saving model to tmp_models/weights.09.hdf5\n",
      "226800/226800 [==============================] - 55s 241us/step - loss: 0.4380 - acc: 0.8330 - val_loss: 0.0283 - val_acc: 0.9927\n",
      "Epoch 10/20\n",
      "226600/226800 [============================>.] - ETA: 0s - loss: 0.4368 - acc: 0.8339- ETA: 4s - loss: 0\n",
      "Epoch 00010: saving model to tmp_models/weights.10.hdf5\n",
      "226800/226800 [==============================] - 54s 239us/step - loss: 0.4368 - acc: 0.8339 - val_loss: 0.0291 - val_acc: 0.9922\n",
      "Epoch 11/20\n",
      "226600/226800 [============================>.] - ETA: 0s - loss: 0.4355 - acc: 0.8347\n",
      "Epoch 00011: saving model to tmp_models/weights.11.hdf5\n",
      "226800/226800 [==============================] - 53s 235us/step - loss: 0.4355 - acc: 0.8347 - val_loss: 0.0316 - val_acc: 0.9919\n",
      "Epoch 12/20\n",
      "226600/226800 [============================>.] - ETA: 0s - loss: 0.4335 - acc: 0.8354\n",
      "Epoch 00012: saving model to tmp_models/weights.12.hdf5\n",
      "226800/226800 [==============================] - 54s 236us/step - loss: 0.4335 - acc: 0.8354 - val_loss: 0.0358 - val_acc: 0.9921\n",
      "Epoch 13/20\n",
      "226600/226800 [============================>.] - ETA: 0s - loss: 0.4321 - acc: 0.8363- E\n",
      "Epoch 00013: saving model to tmp_models/weights.13.hdf5\n",
      "226800/226800 [==============================] - 54s 239us/step - loss: 0.4322 - acc: 0.8362 - val_loss: 0.0315 - val_acc: 0.9915\n",
      "Epoch 14/20\n",
      "226700/226800 [============================>.] - ETA: 0s - loss: 0.4309 - acc: 0.8364\n",
      "Epoch 00014: saving model to tmp_models/weights.14.hdf5\n",
      "226800/226800 [==============================] - 54s 239us/step - loss: 0.4309 - acc: 0.8364 - val_loss: 0.0532 - val_acc: 0.9889\n",
      "Epoch 15/20\n",
      "226500/226800 [============================>.] - ETA: 0s - loss: 0.4300 - acc: 0.8373\n",
      "Epoch 00015: saving model to tmp_models/weights.15.hdf5\n",
      "226800/226800 [==============================] - 54s 237us/step - loss: 0.4300 - acc: 0.8373 - val_loss: 0.0289 - val_acc: 0.9926\n",
      "Epoch 16/20\n",
      "226700/226800 [============================>.] - ETA: 0s - loss: 0.4277 - acc: 0.8382\n",
      "Epoch 00016: saving model to tmp_models/weights.16.hdf5\n",
      "226800/226800 [==============================] - 52s 230us/step - loss: 0.4278 - acc: 0.8382 - val_loss: 0.0343 - val_acc: 0.9920\n",
      "Epoch 17/20\n",
      "226500/226800 [============================>.] - ETA: 0s - loss: 0.4262 - acc: 0.8387\n",
      "Epoch 00017: saving model to tmp_models/weights.17.hdf5\n",
      "226800/226800 [==============================] - 54s 237us/step - loss: 0.4262 - acc: 0.8387 - val_loss: 0.0333 - val_acc: 0.9929\n",
      "Epoch 18/20\n",
      "226700/226800 [============================>.] - ETA: 0s - loss: 0.4249 - acc: 0.8398\n",
      "Epoch 00018: saving model to tmp_models/weights.18.hdf5\n",
      "226800/226800 [==============================] - 53s 235us/step - loss: 0.4248 - acc: 0.8398 - val_loss: 0.0361 - val_acc: 0.9921\n",
      "Epoch 19/20\n",
      "226600/226800 [============================>.] - ETA: 0s - loss: 0.4226 - acc: 0.8409- ETA: 0s - loss: 0.4226 - acc: 0.840\n",
      "Epoch 00019: saving model to tmp_models/weights.19.hdf5\n",
      "226800/226800 [==============================] - 54s 240us/step - loss: 0.4225 - acc: 0.8409 - val_loss: 0.0381 - val_acc: 0.9919\n",
      "Epoch 20/20\n",
      "226700/226800 [============================>.] - ETA: 0s - loss: 0.4213 - acc: 0.8417\n",
      "Epoch 00020: saving model to tmp_models/weights.20.hdf5\n",
      "226800/226800 [==============================] - 54s 236us/step - loss: 0.4213 - acc: 0.8417 - val_loss: 0.0390 - val_acc: 0.9912\n"
     ]
    }
   ],
   "source": [
    "import keras\n",
    "from keras.layers import Conv2D, MaxPool2D\n",
    "from keras.models import Sequential\n",
    "from keras.layers import Dense, Dropout, Activation, Flatten\n",
    "from keras import backend as K\n",
    "from keras.utils import to_categorical\n",
    "\n",
    "K.clear_session()\n",
    "np.random.seed(123)\n",
    "model=Sequential()\n",
    "\n",
    "model.add(Conv2D(32,(3,3), activation='relu', input_shape=(28,28,1),data_format='channels_last'))\n",
    "model.add(Conv2D(32,(3,3), activation='relu'))\n",
    "model.add(MaxPool2D(pool_size=(2,2)))\n",
    "model.add(Conv2D(64,(3,3), activation='relu'))\n",
    "model.add(Conv2D(64,(3,3), activation='relu'))\n",
    "model.add(MaxPool2D(pool_size=(2,2)))\n",
    "model.add(Flatten())\n",
    "model.add(Dense(1200, activation='relu'))\n",
    "model.add(Dropout(0.5))\n",
    "model.add(Dense(num_classes, activation='softmax'))\n",
    "\n",
    "model.compile(loss='categorical_crossentropy',\n",
    "              optimizer='adam',\n",
    "              metrics=['accuracy'])\n",
    "\n",
    "print (model.summary())\n",
    "\n",
    "\n",
    "checkpoints=keras.callbacks.ModelCheckpoint('tmp_models/weights.{epoch:02d}.hdf5', monitor='val_loss', \n",
    "                                verbose=1, save_best_only=False, save_weights_only=False, mode='auto', period=1)\n",
    "\n",
    "history=model.fit(trainee, train_labels, batch_size=100, verbose=1, epochs=20, validation_split = 0.1, callbacks=[checkpoints])\n",
    "#score=model.evaluate(testee, test_labels, verbose=1)\n",
    "#print (score)"
   ]
  },
  {
   "cell_type": "code",
   "execution_count": 57,
   "metadata": {},
   "outputs": [
    {
     "data": {
      "image/png": "[encoded data removed]",
      "text/plain": [
       "<matplotlib.figure.Figure at 0x7f3eace355d0>"
      ]
     },
     "metadata": {},
     "output_type": "display_data"
    }
   ],
   "source": [
    "hist=history\n",
    "epochs=np.asarray(history.epoch)+1\n",
    "\n",
    "%matplotlib inline\n",
    "import matplotlib\n",
    "plt.style.use('seaborn-white')\n",
    "matplotlib.rc('font',family='Times New Roman')\n",
    "matplotlib.rcParams['font.size'] = 20\n",
    "\n",
    "f, axarr = plt.subplots(2, sharex=True, figsize=(8, 6))\n",
    "\n",
    "axarr[0].set(ylabel='Loss')\n",
    "axarr[0].plot(epochs,hist.history['loss'], 'C3o', label='Training')\n",
    "axarr[0].plot(epochs,hist.history['val_loss'], 'C3-', label='Validation')\n",
    "axarr[0].grid()\n",
    "axarr[0].legend(loc='center right', bbox_to_anchor=(1.5, 0.5))\n",
    "\n",
    "\n",
    "axarr[1].plot(epochs,hist.history['acc'], 'C0o', label='Training')\n",
    "axarr[1].plot(epochs,hist.history['val_acc'], 'C0-', label='Validation')\n",
    "plt.legend(loc='center right', bbox_to_anchor=(1.5, 0.5))\n",
    "plt.xlabel('Epochs')\n",
    "plt.ylabel('Accuracy')\n",
    "plt.tight_layout()\n",
    "plt.grid()\n",
    "plt.tick_params(which='both', width=2)\n",
    "plt.tick_params(which='major', length=7)\n",
    "plt.tick_params(which='minor', length=5)"
   ]
  },
  {
   "cell_type": "markdown",
   "metadata": {},
   "source": [
    "# Use model trained on Keras mnist data set in parent folder\n",
    "\n",
    "Training using the competitions' training data gives only ~99.2% accuracy even with augmentation\n",
    "\n",
    "Using the model trained on dataset that came with Keras got ~99.76% accuracy"
   ]
  },
  {
   "cell_type": "code",
   "execution_count": 58,
   "metadata": {},
   "outputs": [],
   "source": [
    "from keras.models import Model, load_model\n",
    "model=load_model('../tmp_models/weights.08.hdf5')\n",
    "\n",
    "predictions = model.predict_classes(X_test, verbose=0)\n",
    "\n",
    "submissions=pd.DataFrame({\"ImageId\": list(range(1,len(predictions)+1)),\n",
    "                         \"Label\": predictions})\n",
    "submissions.to_csv(\"submit.csv\", index=False, header=True)"
   ]
  },
  {
   "cell_type": "code",
   "execution_count": null,
   "metadata": {
    "collapsed": true
   },
   "outputs": [],
   "source": []
  }
 ],
 "metadata": {
  "colab": {
   "default_view": {},
   "name": "1_notmnist.ipynb",
   "provenance": [],
   "version": "0.3.2",
   "views": {}
  },
  "kernelspec": {
   "display_name": "Python 2",
   "language": "python",
   "name": "python2"
  },
  "language_info": {
   "codemirror_mode": {
    "name": "ipython",
    "version": 2
   },
   "file_extension": ".py",
   "mimetype": "text/x-python",
   "name": "python",
   "nbconvert_exporter": "python",
   "pygments_lexer": "ipython2",
   "version": "2.7.14"
  }
 },
 "nbformat": 4,
 "nbformat_minor": 1
}
